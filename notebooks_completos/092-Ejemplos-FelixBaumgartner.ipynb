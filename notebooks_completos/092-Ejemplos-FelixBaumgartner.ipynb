{
 "cells": [
  {
   "cell_type": "markdown",
   "metadata": {},
   "source": [
    "# Curso: \"El lenguaje de programación Python para la docencia en el ámbito científico\"\n",
    "\n",
    "&nbsp;  \n",
    "<img src=\"../images/logo_python_letras.png\" align=\"center\" style=\"width:350px;\"/>\n",
    "\n",
    "<strong><div style=\"text-align: center\"> [Mabel Delgado Babiano](https://es.linkedin.com/in/mabeldelgadob)</div></strong>\n",
    "\n",
    "&nbsp;  \n",
    "<div style=\"text-align: center\">Heredia, Costa Rica</div>\n",
    "<div style=\"text-align: center\">4 - 7 Febrero 2019</div>\n"
   ]
  },
  {
   "cell_type": "markdown",
   "metadata": {},
   "source": [
    "# AeroPython: Salto de Felix Baumgartner desde la estratosfera"
   ]
  },
  {
   "cell_type": "markdown",
   "metadata": {},
   "source": [
    "El 14 de octubre de 2012 Felix Baumgartner saltó de una sonda estratosférica a casi 40000 metros, batiendo los récords de vuelo en globo tripulado a mayor altura y salto a mayor altura. **¿Rompió además la barrera del sonido?**\n",
    "¡**Python**! ;)"
   ]
  },
  {
   "cell_type": "markdown",
   "metadata": {},
   "source": [
    "<img src=\"http://undondin.com/wp-content/uploads/2013/01/red-bull-stratos.jpg\" width=\"800\" />"
   ]
  },
  {
   "cell_type": "markdown",
   "metadata": {},
   "source": [
    "Inspiración: http://pybonacci.wordpress.com/2012/10/15/el-salto-de-felix-baumgartner-en-python/"
   ]
  },
  {
   "cell_type": "markdown",
   "metadata": {},
   "source": [
    "La ecuación que gobierna la caída de Felix es:"
   ]
  },
  {
   "cell_type": "markdown",
   "metadata": {},
   "source": [
    "$$\\displaystyle m \\frac{d^2 y}{d t^2} = -m g + D$$"
   ]
  },
  {
   "cell_type": "markdown",
   "metadata": {},
   "source": [
    "Siendo\n",
    "\n",
    "$$D = \\frac{1}{2} \\rho v^2 C_D A$$"
   ]
  },
  {
   "cell_type": "markdown",
   "metadata": {},
   "source": [
    "donde\n",
    "\n",
    "* $m$ es la masa de Félix y la tomaremos $m = 80~\\text{kg}$,\n",
    "* $\\rho$ es la densidad del aire **y depende de la altura**,\n",
    "* $v = |\\dot{y}|$ es la velocidad,\n",
    "* $C_D$ es el coeficiente de rozamiento, que tomaremos* $C_D = 0.4$, y\n",
    "* $A$ es un área de referencia y tomaremos $A = 1~\\text{m}^2$.\n",
    "\n",
    "\\* <small>Fuente: http://fisicadepelicula.blogspot.com.es/2012/10/la-fisica-del-salto-baumgartner.html</small>\n",
    "\n",
    "Además, necesitaremos la altura inicial $h_0 = 39000~\\text{m}$."
   ]
  },
  {
   "cell_type": "code",
   "execution_count": 1,
   "metadata": {},
   "outputs": [],
   "source": [
    "import numpy as np"
   ]
  },
  {
   "cell_type": "code",
   "execution_count": 2,
   "metadata": {},
   "outputs": [],
   "source": [
    "import matplotlib.pyplot as plt"
   ]
  },
  {
   "cell_type": "markdown",
   "metadata": {},
   "source": [
    "## Atmósfera estándar"
   ]
  },
  {
   "cell_type": "markdown",
   "metadata": {},
   "source": [
    "Necesitamos escribir funciones que nos den las condiciones en la atmósfera estándar."
   ]
  },
  {
   "cell_type": "markdown",
   "metadata": {},
   "source": [
    "### Temperatura"
   ]
  },
  {
   "cell_type": "markdown",
   "metadata": {},
   "source": [
    "$$T(h) = \\begin{cases} T_0 + \\lambda h & 0 <= h <= 11000 \\\\ T(11000) & 11000 < h \\end{cases}\n",
    "\\\\ ~\\\\ T_0 = 288.16 K \\\\\n",
    "\\lambda = -6.5 \\cdot 10^{-3}~\\text{K/m}$$"
   ]
  },
  {
   "cell_type": "code",
   "execution_count": 3,
   "metadata": {},
   "outputs": [],
   "source": [
    "# aeropython: preserve\n",
    "\n",
    "def T_ISA(h):\n",
    "    \"\"\"Temperatura en función de la altitud según modelo ISA.\n",
    "\n",
    "    Argumentos\n",
    "    ----------\n",
    "    h : Altura en metros.\n",
    "\n",
    "    Devuelve\n",
    "    --------\n",
    "    T : Temperatura en Kelvin.\n",
    "\n",
    "    \"\"\"\n",
    "    T0 = 288.16  # K\n",
    "    ll = -6.5e-3  # K / m\n",
    "    if 0 <= h <= 11000:\n",
    "        T = T0 + ll * h\n",
    "    elif 11000 < h:\n",
    "        T = T0 + ll * 11000\n",
    "    # Es preferible que la función tenga solo un `return`\n",
    "    return T"
   ]
  },
  {
   "cell_type": "code",
   "execution_count": 4,
   "metadata": {},
   "outputs": [
    {
     "name": "stdout",
     "output_type": "stream",
     "text": [
      "Help on function T_ISA in module __main__:\n",
      "\n",
      "T_ISA(h)\n",
      "    Temperatura en función de la altitud según modelo ISA.\n",
      "    \n",
      "    Argumentos\n",
      "    ----------\n",
      "    h : Altura en metros.\n",
      "    \n",
      "    Devuelve\n",
      "    --------\n",
      "    T : Temperatura en Kelvin.\n",
      "\n"
     ]
    }
   ],
   "source": [
    "help(T_ISA)"
   ]
  },
  {
   "cell_type": "markdown",
   "metadata": {},
   "source": [
    "Si quieres comprobar que tus funciones hacen lo que deben, puedes ejecutar estos tests:"
   ]
  },
  {
   "cell_type": "code",
   "execution_count": 5,
   "metadata": {},
   "outputs": [],
   "source": [
    "from numpy.testing import assert_almost_equal\n",
    "\n",
    "assert_almost_equal(T_ISA(0), 288.16)\n",
    "assert_almost_equal(T_ISA(11000), 216.66)"
   ]
  },
  {
   "cell_type": "markdown",
   "metadata": {},
   "source": [
    "<div class=\"alert alert-warning\">**¡Importante!** Si utilizas condicionales para comprobar las capas de la atmósfera, seguramente tus funciones fallarán si las quieres representar utilizando un `linspace`. Para estos casos es mejor utilizar la función `np.select`:</div>"
   ]
  },
  {
   "cell_type": "code",
   "execution_count": 6,
   "metadata": {},
   "outputs": [],
   "source": [
    "# aeropython: preserve\n",
    "def T_ISA(h):\n",
    "    \"\"\"Temperatura en función de la altitud según modelo ISA.\n",
    "\n",
    "    Argumentos\n",
    "    ----------\n",
    "    h : Altura en metros.\n",
    "\n",
    "    Devuelve\n",
    "    --------\n",
    "    T : Temperatura en Kelvin.\n",
    "\n",
    "    \"\"\"\n",
    "    # Con esta línea convertimos la entrada a un array\n",
    "    h = np.asarray(h)\n",
    "\n",
    "    T0 = 288.16  # K\n",
    "    ll = -6.5e-3  # K / m\n",
    "\n",
    "    T1 = T0 + ll * h\n",
    "    T2 = T0 + ll * 11000\n",
    "\n",
    "    # 0 <= h <= 110000 no funciona para arrays\n",
    "    T = np.select([(0 <= h) & (h <= 11000), 11000 < h], [T1, T2])\n",
    "    return T"
   ]
  },
  {
   "cell_type": "code",
   "execution_count": 7,
   "metadata": {},
   "outputs": [
    {
     "data": {
      "text/plain": [
       "array(288.16)"
      ]
     },
     "execution_count": 7,
     "metadata": {},
     "output_type": "execute_result"
    }
   ],
   "source": [
    "# aeropython: preserve\n",
    "T_ISA(0)"
   ]
  },
  {
   "cell_type": "code",
   "execution_count": 8,
   "metadata": {},
   "outputs": [
    {
     "data": {
      "text/plain": [
       "array([288.16, 216.66, 216.66])"
      ]
     },
     "execution_count": 8,
     "metadata": {},
     "output_type": "execute_result"
    }
   ],
   "source": [
    "# aeropython: preserve\n",
    "T_ISA(np.array([0, 11000, 20000]))"
   ]
  },
  {
   "cell_type": "code",
   "execution_count": 9,
   "metadata": {},
   "outputs": [
    {
     "data": {
      "text/plain": [
       "array([288.16, 216.66, 216.66])"
      ]
     },
     "execution_count": 9,
     "metadata": {},
     "output_type": "execute_result"
    }
   ],
   "source": [
    "# aeropython: preserve\n",
    "# Como hemos puesto `h = np.asarray(h)`, podemos hacer esto\n",
    "T_ISA([0, 11000, 20000])"
   ]
  },
  {
   "cell_type": "markdown",
   "metadata": {},
   "source": [
    "Otra forma alternativa (idea de Alfredo y Laura):"
   ]
  },
  {
   "cell_type": "code",
   "execution_count": 23,
   "metadata": {},
   "outputs": [],
   "source": [
    "# aeropython: preserve\n",
    "def T_ISA(h):\n",
    "    \"\"\"Temperatura en función de la altitud según modelo ISA.\n",
    "\n",
    "    Argumentos\n",
    "    ----------\n",
    "    h : Altura en metros.\n",
    "\n",
    "    Devuelve\n",
    "    --------\n",
    "    T : Temperatura en Kelvin.\n",
    "\n",
    "    \"\"\"\n",
    "    # Con esta línea convertimos la entrada a un array\n",
    "    h = np.atleast_1d(h)\n",
    "\n",
    "    T0 = 288.16  # K\n",
    "    ll = -6.5e-3  # K / m\n",
    "\n",
    "    T = np.zeros_like(h, dtype=float)\n",
    "\n",
    "    T[(0 <= h) & (h <= 11000)] = T0 + ll * h[(0 <= h) & (h <= 11000)]\n",
    "    T[11000 < h] = T0 + ll * 11000\n",
    "\n",
    "    return T"
   ]
  },
  {
   "cell_type": "code",
   "execution_count": 24,
   "metadata": {},
   "outputs": [
    {
     "data": {
      "text/plain": [
       "array([288.16])"
      ]
     },
     "execution_count": 24,
     "metadata": {},
     "output_type": "execute_result"
    }
   ],
   "source": [
    "# aeropython: preserve\n",
    "T_ISA(0)"
   ]
  },
  {
   "cell_type": "code",
   "execution_count": 25,
   "metadata": {},
   "outputs": [
    {
     "data": {
      "text/plain": [
       "array([288.16, 216.66, 216.66])"
      ]
     },
     "execution_count": 25,
     "metadata": {},
     "output_type": "execute_result"
    }
   ],
   "source": [
    "# aeropython: preserve\n",
    "T_ISA([0, 11000, 20000])"
   ]
  },
  {
   "cell_type": "markdown",
   "metadata": {},
   "source": [
    "### Densidad"
   ]
  },
  {
   "cell_type": "markdown",
   "metadata": {},
   "source": [
    "$$ \\rho(h) = \\begin{cases} \\rho_0 \\left( \\frac{T}{T_0} \\right)^{-\\frac{g}{\\lambda R} - 1} & 0 <= h <= 11000 \\\\ \\rho(11000)~e^{\\frac{-g(z - 11000)}{R T}} & 11000 < h <= 20000 \\end{cases} $$"
   ]
  },
  {
   "cell_type": "markdown",
   "metadata": {},
   "source": [
    "$$\\rho_0 = 1.225~\\text{[SI]} \\\\\n",
    "R = 287~\\text{[SI]}$$"
   ]
  },
  {
   "cell_type": "code",
   "execution_count": 13,
   "metadata": {},
   "outputs": [],
   "source": [
    "# aeropython: preserve\n",
    "def rho_ISA(h):\n",
    "    h = np.asarray(h)\n",
    "\n",
    "    T0 = 288.16  # K\n",
    "    ll = -6.5e-3  # K / m\n",
    "    g = 9.8  # m / s2\n",
    "    rho0 = 1.225  # kg / m3\n",
    "    R = 287.0  # [SI]\n",
    "\n",
    "    rho1 = rho0 * (T_ISA(h) / T0) ** (-g / (ll * R) - 1)\n",
    "    \n",
    "    rho2 = rho0 * (T_ISA(11000) / T0) ** (-g / (ll * R) - 1) * np.exp(-g * (h - 11000) / (R * T_ISA(h)))\n",
    "\n",
    "    rho = np.select([(0 <= h) & (h <= 11000), 11000 < h], [rho1, rho2])\n",
    "    return rho"
   ]
  },
  {
   "cell_type": "code",
   "execution_count": 14,
   "metadata": {},
   "outputs": [
    {
     "data": {
      "text/plain": [
       "array([1.225     , 0.36420497, 0.08817176])"
      ]
     },
     "execution_count": 14,
     "metadata": {},
     "output_type": "execute_result"
    }
   ],
   "source": [
    "# aeropython: preserve\n",
    "rho_ISA([0, 11000, 20000])"
   ]
  },
  {
   "cell_type": "markdown",
   "metadata": {},
   "source": [
    "## Ecuación diferencial"
   ]
  },
  {
   "cell_type": "markdown",
   "metadata": {},
   "source": [
    "Recuerda de la clase 035 que `integrate.solve_ivp(f, (tini, tfin), y0)` resuelve ecuaciones del tipo:"
   ]
  },
  {
   "cell_type": "markdown",
   "metadata": {},
   "source": [
    "$$ \\frac{d\\mathbf{y}}{dt}=\\mathbf{f}(t, \\mathbf{y})$$\n",
    "\n",
    "con condiciones iniciales $\\mathbf{y}(\\mathbf{0}) = \\mathbf{y_0}$. Por tanto, y al tratarse esta de una ecuación en derivada segunda, hay que hacer una reducción de orden."
   ]
  },
  {
   "cell_type": "markdown",
   "metadata": {
    "collapsed": true
   },
   "source": [
    "Importamos el modulo necesario de scipy para poder integrar:"
   ]
  },
  {
   "cell_type": "code",
   "execution_count": 15,
   "metadata": {},
   "outputs": [],
   "source": [
    "import numpy as np\n",
    "from scipy import integrate\n",
    "import matplotlib.pyplot as plt"
   ]
  },
  {
   "cell_type": "code",
   "execution_count": 16,
   "metadata": {},
   "outputs": [],
   "source": [
    "# Función del sistema\n",
    "def f(t, y):\n",
    "    \n",
    "    g = 9.8  # m / s2\n",
    "    C_D = 0.4\n",
    "    A = 1.0  # m^2\n",
    "    m = 80  # kg\n",
    "    return np.array([\n",
    "        y[1],\n",
    "        -g + rho_ISA(y[0]) * y[1] ** 2 * C_D * A / (2 * m)\n",
    "    ])\n",
    "\n",
    "# Condiciones iniciales\n",
    "y0 = np.array([39000, 0])\n",
    "\n",
    "# Vector de tiempos\n",
    "t = np.linspace(0, 250)\n",
    "\n",
    "# Integramos la ecuación\n",
    "sol = integrate.solve_ivp(f, (0., 250.), y0)\n",
    "\n"
   ]
  },
  {
   "cell_type": "code",
   "execution_count": 17,
   "metadata": {},
   "outputs": [
    {
     "data": {
      "text/plain": [
       "  message: 'The solver successfully reached the end of the integration interval.'\n",
       "     nfev: 200\n",
       "     njev: 0\n",
       "      nlu: 0\n",
       "      sol: None\n",
       "   status: 0\n",
       "  success: True\n",
       "        t: array([0.00000000e+00, 1.02040814e-04, 1.12244895e-03, 1.13265303e-02,\n",
       "       1.13367344e-01, 1.13377548e+00, 1.13378569e+01, 3.20426377e+01,\n",
       "       5.32000786e+01, 6.71939363e+01, 7.88156765e+01, 9.20905916e+01,\n",
       "       1.04091133e+02, 1.16375357e+02, 1.28659581e+02, 1.39137985e+02,\n",
       "       1.49795920e+02, 1.62178467e+02, 1.75166428e+02, 1.86518179e+02,\n",
       "       1.98140366e+02, 2.09808405e+02, 2.20122600e+02, 2.30651899e+02,\n",
       "       2.41359447e+02, 2.50000000e+02])\n",
       " t_events: None\n",
       "        y: array([[ 3.90000000e+04,  3.90000000e+04,  3.90000000e+04,\n",
       "         3.89999994e+04,  3.89999370e+04,  3.89937015e+04,\n",
       "         3.83716328e+04,  3.40931351e+04,  2.66038371e+04,\n",
       "         2.16669045e+04,  1.84853808e+04,  1.57871804e+04,\n",
       "         1.38880010e+04,  1.22626956e+04,  1.08525792e+04,\n",
       "         9.76950272e+03,  8.74652633e+03,  7.63751362e+03,\n",
       "         6.55044802e+03,  5.65433011e+03,  4.78244381e+03,\n",
       "         3.94793686e+03,  3.24048558e+03,  2.54491674e+03,\n",
       "         1.86268210e+03,  1.32892448e+03],\n",
       "       [ 0.00000000e+00, -9.99999974e-04, -1.09999997e-02,\n",
       "        -1.10999997e-01, -1.11099946e+00, -1.11104846e+01,\n",
       "        -1.10567569e+02, -2.96318286e+02, -3.79331910e+02,\n",
       "        -3.13103337e+02, -2.36334093e+02, -1.75755913e+02,\n",
       "        -1.43611154e+02, -1.22639284e+02, -1.07961633e+02,\n",
       "        -9.94403608e+01, -9.28405690e+01, -8.65963824e+01,\n",
       "        -8.11350813e+01, -7.69766647e+01, -7.32720167e+01,\n",
       "        -6.99939690e+01, -6.73498706e+01, -6.49192790e+01,\n",
       "        -6.26798241e+01, -6.09569239e+01]])"
      ]
     },
     "execution_count": 17,
     "metadata": {},
     "output_type": "execute_result"
    }
   ],
   "source": [
    "sol"
   ]
  },
  {
   "cell_type": "code",
   "execution_count": 27,
   "metadata": {},
   "outputs": [
    {
     "data": {
      "text/plain": [
       "array([[ 3.90000000e+04,  3.90000000e+04,  3.90000000e+04,\n",
       "         3.89999994e+04,  3.89999370e+04,  3.89937015e+04,\n",
       "         3.83716328e+04,  3.40931351e+04,  2.66038371e+04,\n",
       "         2.16669045e+04,  1.84853808e+04,  1.57871804e+04,\n",
       "         1.38880010e+04,  1.22626956e+04,  1.08525792e+04,\n",
       "         9.76950272e+03,  8.74652633e+03,  7.63751362e+03,\n",
       "         6.55044802e+03,  5.65433011e+03,  4.78244381e+03,\n",
       "         3.94793686e+03,  3.24048558e+03,  2.54491674e+03,\n",
       "         1.86268210e+03,  1.32892448e+03],\n",
       "       [ 0.00000000e+00, -9.99999974e-04, -1.09999997e-02,\n",
       "        -1.10999997e-01, -1.11099946e+00, -1.11104846e+01,\n",
       "        -1.10567569e+02, -2.96318286e+02, -3.79331910e+02,\n",
       "        -3.13103337e+02, -2.36334093e+02, -1.75755913e+02,\n",
       "        -1.43611154e+02, -1.22639284e+02, -1.07961633e+02,\n",
       "        -9.94403608e+01, -9.28405690e+01, -8.65963824e+01,\n",
       "        -8.11350813e+01, -7.69766647e+01, -7.32720167e+01,\n",
       "        -6.99939690e+01, -6.73498706e+01, -6.49192790e+01,\n",
       "        -6.26798241e+01, -6.09569239e+01]])"
      ]
     },
     "execution_count": 27,
     "metadata": {},
     "output_type": "execute_result"
    }
   ],
   "source": [
    "sol.y"
   ]
  },
  {
   "cell_type": "code",
   "execution_count": 19,
   "metadata": {},
   "outputs": [
    {
     "data": {
      "text/plain": [
       "(2, 26)"
      ]
     },
     "execution_count": 19,
     "metadata": {},
     "output_type": "execute_result"
    }
   ],
   "source": [
    "sol.y.shape"
   ]
  },
  {
   "cell_type": "code",
   "execution_count": 28,
   "metadata": {},
   "outputs": [
    {
     "data": {
      "image/png": "[encoded data removed]",
      "text/plain": [
       "<Figure size 432x432 with 2 Axes>"
      ]
     },
     "metadata": {
      "needs_background": "light"
     },
     "output_type": "display_data"
    }
   ],
   "source": [
    "pos = sol.y[0, :]  # Primera fila: posición\n",
    "vel = sol.y[1, :]   # Segunda fila: velocidad\n",
    "t = sol.t              # tiempo\n",
    "\n",
    "# Representamos la solución\n",
    "fig, axes = plt.subplots(2, 1, sharex=True, figsize=(6, 6))\n",
    "line, = axes[0].plot(t, pos / 1e3, label=\"Position $y$\")\n",
    "axes[0].set_ylabel(\"Position (km)\")\n",
    "axes[1].plot(t, vel, '--', color=line.get_color(), label=\"Velocity $\\dot{y}$\")\n",
    "axes[1].set_ylabel(\"Velocity (m / s)\")\n",
    "axes[1].set_xlabel(\"Time (s)\")\n",
    "axes[0].legend()\n",
    "axes[1].legend()\n",
    "axes[0].set_title(\"Felix Baumgartner free fall\")\n",
    "fig.tight_layout()"
   ]
  },
  {
   "cell_type": "markdown",
   "metadata": {},
   "source": [
    "## Barrera del sonido"
   ]
  },
  {
   "cell_type": "markdown",
   "metadata": {},
   "source": [
    "La velocidad del sonido en el aire variará también, y lo hará de esta forma:"
   ]
  },
  {
   "cell_type": "markdown",
   "metadata": {},
   "source": [
    "$$M = \\frac{v}{c}$$"
   ]
  },
  {
   "cell_type": "markdown",
   "metadata": {},
   "source": [
    "siendo\n",
    "\n",
    "$$c = \\sqrt{\\gamma R T}$$"
   ]
  },
  {
   "cell_type": "markdown",
   "metadata": {},
   "source": [
    "Como paso final, representa $M$ en función de $t$ y en la misma gráfica incluye una línea horizontal de trazo discontinuo donde $M = 1$."
   ]
  },
  {
   "cell_type": "code",
   "execution_count": 21,
   "metadata": {},
   "outputs": [
    {
     "data": {
      "text/plain": [
       "Text(0.5,1,'Mach number')"
      ]
     },
     "execution_count": 21,
     "metadata": {},
     "output_type": "execute_result"
    },
    {
     "data": {
      "image/png": "[encoded data removed]",
      "text/plain": [
       "<Figure size 432x288 with 1 Axes>"
      ]
     },
     "metadata": {
      "needs_background": "light"
     },
     "output_type": "display_data"
    }
   ],
   "source": [
    "gamma = 1.4\n",
    "R = 287.0  # [SI]\n",
    "c = np.sqrt(gamma * R * T_ISA(pos))\n",
    "\n",
    "M = np.abs(vel) / c\n",
    "\n",
    "plt.plot(t, M)\n",
    "plt.plot(t, np.ones_like(t), 'k--')\n",
    "plt.ylabel('Mach number')\n",
    "plt.xlabel('Time (s)')\n",
    "plt.title(\"Mach number\")"
   ]
  },
  {
   "cell_type": "markdown",
   "metadata": {},
   "source": [
    "**Barrera del sonido superada** ;)"
   ]
  },
  {
   "cell_type": "markdown",
   "metadata": {},
   "source": [
    "--- \n",
    "\n",
    "__Referencias__\n",
    "\n",
    "Material adaptado del \"Curso AeroPython\". AeroPython. https://github.com/AeroPython/Curso_AeroPython<br>\n",
    "\n",
    " <a rel=\"license\" href=\"http://creativecommons.org/licenses/by/4.0/deed.es\"><img alt=\"Licencia Creative Commons\" style=\"border-width:0\" src=\"http://i.creativecommons.org/l/by/4.0/88x31.png\" /></a><br /><span xmlns:dct=\"http://purl.org/dc/terms/\" property=\"dct:title\">Curso AeroPython</span> por <span xmlns:cc=\"http://creativecommons.org/ns#\" property=\"cc:attributionName\">Juan Luis Cano Rodriguez y Alejandro Sáez Mollejo</span> se distribuye bajo una <a rel=\"license\" href=\"http://creativecommons.org/licenses/by/4.0/deed.es\">Licencia Creative Commons Atribución 4.0 Internacional</a>."
   ]
  },
  {
   "cell_type": "markdown",
   "metadata": {},
   "source": [
    "---\n",
    "_Las siguientes celdas contienen configuración del Notebook_\n",
    "\n",
    "_Para visualizar y utlizar los enlaces a Twitter el notebook debe ejecutarse como [seguro](http://ipython.org/ipython-doc/dev/notebook/security.html)_\n",
    "\n",
    "    File > Trusted Notebook"
   ]
  },
  {
   "cell_type": "code",
   "execution_count": 2,
   "metadata": {},
   "outputs": [
    {
     "data": {
      "text/html": [
       "/* This template is inspired in the one used by Lorena Barba\n",
       "in the numerical-mooc repository: https://github.com/numerical-mooc/numerical-mooc\n",
       "We thank her work and hope you also enjoy the look of the notobooks with this style */\n",
       "\n",
       "<link href='http://fonts.googleapis.com/css?family=Source+Sans+Pro|Josefin+Sans:400,700,400italic|Ubuntu+Condensed' rel='stylesheet' type='text/css'>\n",
       "\n",
       "El estilo se ha aplicado =)\n",
       "\n",
       "<style>\n",
       "\n",
       "\n",
       "\n",
       "#notebook_panel { /* main background */\n",
       "    background: #f7f7f7;\n",
       "}\n",
       "\n",
       "div.cell { /* set cell width */\n",
       "    width: 900px;\n",
       "}\n",
       "\n",
       "div #notebook { /* centre the content */\n",
       "    background: #fff; /* white background for content */\n",
       "    width: 950px;\n",
       "    margin: auto;\n",
       "    padding-left: 0em;\n",
       "}\n",
       "\n",
       "#notebook li { /* More space between bullet points */\n",
       "    margin-top:0.7em;\n",
       "}\n",
       "\n",
       "/* draw border around running cells */\n",
       "div.cell.border-box-sizing.code_cell.running { \n",
       "    border: 1px solid #111;\n",
       "}\n",
       "\n",
       "/* Put a solid color box around each cell and its output, visually linking them*/\n",
       "div.cell.code_cell {\n",
       "    font-family: 'Source Sans Pro', sans-serif;\n",
       "    background-color: rgb(256,256,256);\n",
       "    font-size: 110%;\n",
       "    border-radius: 0px; \n",
       "    padding: 0.5em;\n",
       "    margin-left:1em;\n",
       "    margin-top: 1em;\n",
       "}\n",
       "\n",
       "div.text_cell_render{\n",
       "    font-family: 'Josefin Sans', serif;\n",
       "    line-height: 145%;\n",
       "    font-size: 125%;\n",
       "    font-weight: 500;\n",
       "    width:750px;\n",
       "    margin-left:auto;\n",
       "    margin-right:auto;\n",
       "}\n",
       "\n",
       "\n",
       "/* Formatting for header cells */\n",
       ".text_cell_render h1, .text_cell_render h2, .text_cell_render h3,\n",
       ".text_cell_render h4, .text_cell_render h5 {\n",
       "    font-family: 'Ubuntu Condensed', sans-serif;\n",
       "}\n",
       "\n",
       ".text_cell_render h1 {\n",
       "    font-family: Flux, 'Ubuntu Condensed', serif;\n",
       "    font-style:regular;\n",
       "    font-weight: 400;    \n",
       "    font-size: 30pt;\n",
       "    text-align: center;\n",
       "    line-height: 100%;\n",
       "    color: #000000;\n",
       "    margin-bottom: 0.5em;\n",
       "    margin-top: 0.5em;\n",
       "    display: block;\n",
       "}\n",
       "/*\n",
       ".text_cell_render h1 {\n",
       "    font-weight: 600;\n",
       "    font-size: 35pt;\n",
       "    line-height: 100%;\n",
       "    color: #000000;\n",
       "    margin-bottom: 0.1em;\n",
       "    margin-top: 0.3em;\n",
       "    display: block;\n",
       "}\n",
       "*/\n",
       ".text_cell_render h2 {\n",
       "    margin-top:16px;\n",
       "    font-size: 27pt;\n",
       "    font-weight: 550;\n",
       "    margin-bottom: 0.1em;\n",
       "    margin-top: 0.3em;\n",
       "    font-style: regular;\n",
       "    color: #2c6391;\n",
       "}\t\n",
       "\n",
       ".text_cell_render h3 {\n",
       "    font-size: 20pt;\n",
       "    font-weight: 550\n",
       "    text-align: left;\n",
       "    margin-bottom: 0.1em;\n",
       "    margin-top: 0.3em;\n",
       "    font-style: regular;\n",
       "    color:  #387eb8;\n",
       "}\n",
       "\n",
       ".text_cell_render h4 {    /*Use this for captions*/\n",
       "    font-size: 18pt;\n",
       "    font-weight: 450\n",
       "    text-align: left;\n",
       "    margin-bottom: 0.1em;\n",
       "    margin-top: 0.3em;\n",
       "    font-style: regular;\n",
       "    color:  #5797cc;\n",
       "}\n",
       "\n",
       ".text_cell_render h5 {  /*Use this for small titles*/\n",
       "    font-size: 18pt;\n",
       "    font-weight: 550;\n",
       "    color: rgb(163,0,0);\n",
       "    font-style: italic;\n",
       "    margin-bottom: .1em;\n",
       "    margin-top: 0.8em;\n",
       "    display: block;\n",
       "    color:  #b21c0d;\n",
       "}\n",
       "\n",
       ".text_cell_render h6 { /*use this for copyright note*/\n",
       "    font-family: 'Ubuntu Condensed', sans-serif;\n",
       "    font-weight: 300;\n",
       "    font-size: 14pt;\n",
       "    line-height: 100%;\n",
       "    color: #252525;\n",
       "    text-align: right;\n",
       "    margin-bottom: 1px;\n",
       "    margin-top: 1px;\n",
       "}\n",
       "\n",
       ".CodeMirror{\n",
       "        font-family: 'Duru Sans', sans-serif;\n",
       "        font-size: 100%;\n",
       "}\n",
       "\n",
       "</style>\n",
       "<script>\n",
       "    MathJax.Hub.Config({\n",
       "                        TeX: {\n",
       "                           extensions: [\"AMSmath.js\"],\n",
       "                           equationNumbers: { autoNumber: \"AMS\", useLabelIds: true}\n",
       "                           },\n",
       "                tex2jax: {\n",
       "                    inlineMath: [ ['$','$'], [\"\\\\(\",\"\\\\)\"] ],\n",
       "                    displayMath: [ ['$$','$$'], [\"\\\\[\",\"\\\\]\"] ]\n",
       "                },\n",
       "                displayAlign: 'center', // Change this to 'center' to center equations.\n",
       "                \"HTML-CSS\": {\n",
       "                    styles: {'.MathJax_Display': {\"margin\": 4}}\n",
       "                }\n",
       "        });\n",
       "</script>\n"
      ],
      "text/plain": [
       "<IPython.core.display.HTML object>"
      ]
     },
     "execution_count": 2,
     "metadata": {},
     "output_type": "execute_result"
    }
   ],
   "source": [
    "# preserve\n",
    "# Esta celda da el estilo al notebook\n",
    "from IPython.core.display import HTML\n",
    "css_file = '../styles/style.css'\n",
    "HTML(open(css_file, \"r\").read())"
   ]
  },
  {
   "cell_type": "code",
   "execution_count": null,
   "metadata": {},
   "outputs": [],
   "source": []
  }
 ],
 "metadata": {
  "anaconda-cloud": {},
  "kernelspec": {
   "display_name": "Python 3",
   "language": "python",
   "name": "python3"
  },
  "language_info": {
   "codemirror_mode": {
    "name": "ipython",
    "version": 3
   },
   "file_extension": ".py",
   "mimetype": "text/x-python",
   "name": "python",
   "nbconvert_exporter": "python",
   "pygments_lexer": "ipython3",
   "version": "3.7.2"
  }
 },
 "nbformat": 4,
 "nbformat_minor": 1
}
